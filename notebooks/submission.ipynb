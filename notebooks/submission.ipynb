{
 "cells": [
  {
   "cell_type": "code",
   "execution_count": null,
   "metadata": {
    "collapsed": true
   },
   "outputs": [],
   "source": [
    "import pandas as pd\n",
    "import numpy as np\n",
    "from sklearn.preprocessing import LabelEncoder, PolynomialFeatures\n",
    "import matplotlib.pyplot as plt\n",
    "from sklearn.decomposition import PCA\n",
    "from sklearn.metrics import mean_squared_error, mean_absolute_error, r2_score\n",
    "import xgboost as xgb\n",
    "from lightgbm import LGBMRegressor\n",
    "from sklearn.ensemble import RandomForestRegressor\n",
    "from sklearn.preprocessing import StandardScaler, MinMaxScaler"
   ]
  },
  {
   "cell_type": "code",
   "execution_count": null,
   "outputs": [],
   "source": [
    "def assign_time_ft(df):\n",
    "    df['payday'] = ((df['date'].dt.day == 15) | df['date'].dt.is_month_end).astype(int)\n",
    "    df['weekday'] = df['date'].dt.weekday\n",
    "    df['day'] = df['date'].dt.day\n",
    "    df['month'] = df['date'].dt.month\n",
    "    df['year'] = df['date'].dt.year\n",
    "\n",
    "    df['is_weekday'] = 0\n",
    "    df.loc[df['weekday'] < 5, 'is_weekday'] = 1\n",
    "\n",
    "    df[\"season\"] = np.where(df.month.isin([12, 1, 2]), 0, 1)\n",
    "    df[\"season\"] = np.where(df.month.isin([6, 7, 8]), 2, df[\"season\"])\n",
    "    df[\"season\"] = pd.Series(np.where(df.month.isin([9, 10, 11]), 3, df[\"season\"])).astype(\"int8\")\n",
    "\n",
    "    return df"
   ],
   "metadata": {
    "collapsed": false
   }
  },
  {
   "cell_type": "code",
   "execution_count": null,
   "outputs": [],
   "source": [
    "def fill_na(df):\n",
    "    # df['holiday_type'] = df['holiday_type'].fillna('Common')\n",
    "    # df['locale'] = df['locale'].fillna('Common')\n",
    "    # df['description'] = df['description'].fillna('Unknown')\n",
    "    df['transactions'] = df['transferred'].fillna(0)\n",
    "\n",
    "    df['transferred'] = df['transferred'].fillna(False)\n",
    "    df['transferred'] = df['transferred'].astype(int)\n",
    "\n",
    "    df['dcoilwtico'] = df['dcoilwtico'].fillna(method='backfill')\n",
    "\n",
    "    return df"
   ],
   "metadata": {
    "collapsed": false
   }
  },
  {
   "cell_type": "code",
   "execution_count": null,
   "outputs": [],
   "source": [
    "def lag_ft(df, cols, lags):\n",
    "    for c in cols:\n",
    "        for lag in lags:\n",
    "            df[f'{c}_{lag}'] = df[c].shift(lag)\n",
    "\n",
    "    return df"
   ],
   "metadata": {
    "collapsed": false
   }
  },
  {
   "cell_type": "code",
   "execution_count": null,
   "outputs": [],
   "source": [
    "def unify_types(df):\n",
    "    df[df.select_dtypes(np.int64).columns] = df.select_dtypes(np.int64).astype(np.int32)\n",
    "    df[df.select_dtypes(np.float32).columns] = df.select_dtypes(np.float32).astype(np.float64)\n",
    "\n",
    "    return df"
   ],
   "metadata": {
    "collapsed": false
   }
  },
  {
   "cell_type": "code",
   "execution_count": null,
   "outputs": [],
   "source": [
    "def format_sales(df, data_path):\n",
    "    stores_df = pd.read_csv(data_path + '/store-sales/stores.csv')\n",
    "    oil_df = pd.read_csv(data_path + '/store-sales/oil.csv', parse_dates=['date'])\n",
    "\n",
    "    holidays_df = pd.read_csv(data_path + '/store-sales/holidays_events.csv', parse_dates=['date'])\n",
    "    holidays_df['holiday'] = 1\n",
    "\n",
    "    transactions_df = pd.read_csv(data_path + '/store-sales/transactions.csv', parse_dates=['date'])\n",
    "\n",
    "    df = df.merge(stores_df, on='store_nbr', how='left')\n",
    "    df = df.merge(oil_df, on='date', how='left')\n",
    "    df = df.merge(transactions_df, on=['date', 'store_nbr'], how='left')\n",
    "\n",
    "    lb = LabelEncoder()\n",
    "    df['family'] = lb.fit_transform(df['family'])\n",
    "    df['city'] = lb.fit_transform(df['city'])\n",
    "    df['state'] = lb.fit_transform(df['state'])\n",
    "    df['type'] = lb.fit_transform(df['type'])\n",
    "\n",
    "    df = df.merge(holidays_df[['date', 'holiday', 'transferred']], on='date', how='left')\n",
    "\n",
    "    df['holiday'].fillna(0, inplace=True)\n",
    "    df['holiday'] = df['holiday'].astype(int)\n",
    "\n",
    "    df = fill_na(df)\n",
    "    df = lag_ft(df, ['dcoilwtico', 'sales'], [1, 2, 3, 7, 14, 21, 364])\n",
    "    df = assign_time_ft(df)\n",
    "\n",
    "    df = unify_types(df)\n",
    "    df = df.set_index('date')\n",
    "\n",
    "    return df"
   ],
   "metadata": {
    "collapsed": false
   }
  },
  {
   "cell_type": "code",
   "execution_count": null,
   "outputs": [],
   "source": [
    "def read_sales(data_path):\n",
    "    train_df = pd.read_csv(data_path + '/store-sales/train.csv', parse_dates=['date'])\n",
    "    test_df = pd.read_csv(data_path + '/store-sales/test.csv', parse_dates=['date'])\n",
    "\n",
    "    data_df = pd.concat([train_df, test_df], axis=0)\n",
    "    data_df = format_sales(data_df, data_path)\n",
    "\n",
    "    train_df = data_df[data_df.index <= pd.to_datetime(\"2017-08-15\")]\n",
    "    train_df = train_df.dropna()\n",
    "\n",
    "    test_df = data_df[data_df.index > pd.to_datetime(\"2017-08-15\")]\n",
    "\n",
    "    return train_df, test_df"
   ],
   "metadata": {
    "collapsed": false
   }
  },
  {
   "cell_type": "code",
   "execution_count": null,
   "outputs": [],
   "source": [
    "DATAPATH = \"\"\n",
    "\n",
    "train_data, test_data = read_sales(DATAPATH)\n",
    "\n",
    "# train-test split for time series\n",
    "train_size = int(len(train_data) * 0.80)\n",
    "val_size = len(train_data) - train_size\n",
    "train_df, val_df = train_data[:train_size], train_data[train_size:]"
   ],
   "metadata": {
    "collapsed": false
   }
  },
  {
   "cell_type": "code",
   "execution_count": null,
   "outputs": [],
   "source": [
    "def plot_predictions(nb_samples, y_val, y_pred):\n",
    "    sp_list = list(range(0, nb_samples))\n",
    "    plt.figure(figsize=(10, 6))\n",
    "\n",
    "    plt.plot(sp_list, y_val, label='Expected', alpha=0.5)\n",
    "    plt.plot(sp_list, y_pred, label='Predicted', alpha=0.5)\n",
    "    plt.legend(loc=\"upper right\")\n",
    "    plt.show()\n",
    "\n",
    "    plt.plot(sp_list, abs(y_val - y_pred), label='Difference')\n",
    "    plt.legend(loc=\"upper right\")\n",
    "    plt.show()\n",
    "\n",
    "\n",
    "class BaseModel:\n",
    "    def __init__(self, show_fip=True, use_pca=False, scaler=None):\n",
    "        self.use_pca = use_pca\n",
    "        self.show_fip = show_fip\n",
    "\n",
    "        self.model = None\n",
    "        self.pca = None\n",
    "        self.dropped = []\n",
    "        self.ft_values = []\n",
    "        self.feature_names = None\n",
    "\n",
    "        self.scaler = scaler\n",
    "        self.nb_train_samples = 0\n",
    "        self.nb_val_samples = 0\n",
    "\n",
    "    def apply_pca(self, x_train, x_val):\n",
    "        self.pca = PCA(n_components=0.95)\n",
    "        x_train = self.pca.fit_transform(x_train)\n",
    "        x_val = self.pca.transform(x_val)\n",
    "\n",
    "        n_pcs = self.pca.components_.shape[0]\n",
    "\n",
    "        # get the most important feature on EACH component\n",
    "        most_important = [np.abs(self.pca.components_[i]).argmax() for i in range(n_pcs)]\n",
    "        # get the names\n",
    "        most_names = [self.feature_names[most_important[i]] for i in range(n_pcs)]\n",
    "        self.feature_names = ['PC{}_{}'.format(i + 1, most_names[i]) for i in range(n_pcs)]\n",
    "\n",
    "        return x_train, x_val\n",
    "\n",
    "    def process_data(self, train_df, val_df, drop_cols):\n",
    "\n",
    "        self.dropped = drop_cols\n",
    "        x_train = train_df.drop(drop_cols, axis=1)\n",
    "        y_train = train_df['sales']\n",
    "\n",
    "        x_val = val_df.drop(drop_cols, axis=1)\n",
    "        y_val = val_df['sales']\n",
    "\n",
    "        self.nb_train_samples = len(x_train)\n",
    "        self.nb_val_samples = len(x_val)\n",
    "        self.feature_names = list(x_train.columns)\n",
    "\n",
    "        x_train = self.scaler.fit_transform(x_train)\n",
    "        x_val = self.scaler.transform(x_val)\n",
    "\n",
    "        if self.use_pca:\n",
    "            x_train, x_val = self.apply_pca(x_train, x_val)\n",
    "\n",
    "        return x_train, x_val, y_train, y_val\n",
    "\n",
    "    def assign_ftip(self, ft_type):\n",
    "        if self.show_fip:\n",
    "            if ft_type == \"linear\":\n",
    "                return self.model.coef_\n",
    "            elif ft_type == \"tree\":\n",
    "                return self.model.feature_importances_\n",
    "            else:\n",
    "                return []\n",
    "\n",
    "    def train(self, x_train, y_train, x_val, y_val, ft_type=\"linear\"):\n",
    "        self.model.fit(x_train, y_train)\n",
    "        self.ft_values = self.assign_ftip(ft_type)\n",
    "\n",
    "    def predict(self, val, new_data=False, neg_to_zero=True):\n",
    "\n",
    "        if new_data:\n",
    "            val = val.drop(self.dropped, axis=1)\n",
    "            val = self.scaler.transform(val)\n",
    "\n",
    "            if self.use_pca:\n",
    "                val = self.pca.transform(val)\n",
    "\n",
    "        y_pred = self.model.predict(val)\n",
    "\n",
    "        if neg_to_zero:\n",
    "            y_pred[y_pred < 0] = 0\n",
    "\n",
    "        return y_pred\n",
    "\n",
    "    def show_feature_importance(self, ft_val):\n",
    "        plt.figure(figsize=(12, 6))\n",
    "\n",
    "        (pd.Series(ft_val, index=self.feature_names)\n",
    "         .sort_values(ascending=True)\n",
    "         .plot(kind='barh'))\n",
    "\n",
    "        plt.show()\n",
    "\n",
    "    def resume_training(self, y_val, y_pred):\n",
    "\n",
    "        print(\"\\nRegression metrics\")\n",
    "        print('MAE: {:.2f}'.format(mean_absolute_error(y_val, y_pred)))\n",
    "        print('MSE: {:.2f}'.format(mean_squared_error(y_val, y_pred)))\n",
    "        print('R2: {:.2f}'.format(r2_score(y_val, y_pred)))\n",
    "\n",
    "        print(\"\\nPlotting truth vs predictions\")\n",
    "        plot_predictions(self.nb_val_samples, y_val, y_pred)\n",
    "\n",
    "        if self.show_fip:\n",
    "            print(\"Plotting feature importance\")\n",
    "            self.show_feature_importance(self.ft_values)\n"
   ],
   "metadata": {
    "collapsed": false
   }
  },
  {
   "cell_type": "code",
   "execution_count": null,
   "outputs": [],
   "source": [
    "class XGBModel(BaseModel):\n",
    "    def __init__(self, show_fip=True, use_pca=False, scaler=MinMaxScaler(), ft_attr='gain', nb_estimators=100):\n",
    "        super().__init__(show_fip, use_pca, scaler)\n",
    "\n",
    "        self.model = xgb.XGBRegressor(n_estimators=nb_estimators, importance_type=ft_attr, eval_metric='rmse',\n",
    "                                      early_stopping_rounds=10)\n",
    "\n",
    "    def train(self, x_train, y_train, x_val, y_val, ft_type=\"tree\"):\n",
    "        self.model.fit(x_train, y_train, eval_set=[(x_val, y_val)])\n",
    "        self.model.get_booster().feature_names = self.feature_names\n",
    "        self.ft_values = self.assign_ftip(ft_type)\n",
    "\n",
    "\n",
    "class LGBMModel(BaseModel):\n",
    "    def __init__(self, show_fip=True, use_pca=False, scaler=MinMaxScaler(), ft_attr='gain', nb_estimators=100):\n",
    "        super().__init__(show_fip, use_pca, scaler)\n",
    "\n",
    "        self.model = LGBMRegressor(n_estimators=nb_estimators, importance_type=ft_attr, eval_metric='rmse',\n",
    "                                   early_stopping_rounds=5)\n",
    "\n",
    "    def train(self, x_train, y_train, x_val, y_val, ft_type=\"tree\"):\n",
    "        self.model.fit(x_train, y_train, eval_set=[(x_val, y_val)], feature_name=self.feature_names)\n",
    "        self.ft_values = self.assign_ftip(ft_type)\n",
    "\n",
    "\n",
    "class RandomForestModel(BaseModel):\n",
    "    def __init__(self, show_fip=True, use_pca=False, scaler=StandardScaler(), nb_estimators=100):\n",
    "        super().__init__(show_fip, use_pca, scaler)\n",
    "\n",
    "        self.model = RandomForestRegressor(n_estimators=nb_estimators, verbose=2)\n",
    "\n",
    "    def train(self, x_train, y_train, x_val, y_val, ft_type=\"tree\"):\n",
    "        self.model.fit(x_train, y_train)\n",
    "        self.ft_values = self.assign_ftip(ft_type)"
   ],
   "metadata": {
    "collapsed": false
   }
  },
  {
   "cell_type": "code",
   "execution_count": null,
   "outputs": [],
   "source": [
    "drop_cols = ['id', 'sales', 'dcoilwtico', 'dcoilwtico_21', 'is_weekday', 'transferred']\n",
    "\n",
    "forecast_model = XGBModel(show_fip=True, use_pca=False, scaler=MinMaxScaler(), nb_estimators=200)"
   ],
   "metadata": {
    "collapsed": false
   }
  },
  {
   "cell_type": "code",
   "execution_count": null,
   "outputs": [],
   "source": [
    "x_train, x_val, y_train, y_val = forecast_model.process_data(train_df, val_df, drop_cols)\n",
    "forecast_model.train(x_train, y_train, x_val, y_val)"
   ],
   "metadata": {
    "collapsed": false
   }
  },
  {
   "cell_type": "code",
   "execution_count": null,
   "outputs": [],
   "source": [
    "y_pred = forecast_model.predict(x_val)\n",
    "forecast_model.resume_training(y_val, y_pred)"
   ],
   "metadata": {
    "collapsed": false
   }
  },
  {
   "cell_type": "code",
   "execution_count": null,
   "outputs": [],
   "source": [
    "test_sales = forecast_model.predict(test_data, new_data=True)\n",
    "\n",
    "submission_df = pd.read_csv(DATAPATH + '/store-sales/sample_submission.csv')\n",
    "submission_df['sales'] = test_sales\n",
    "submission_df.to_csv('submission.csv', index=False)\n",
    "\n",
    "print(\"Submission saved!\")\n"
   ],
   "metadata": {
    "collapsed": false
   }
  }
 ],
 "metadata": {
  "kernelspec": {
   "display_name": "Python 3",
   "language": "python",
   "name": "python3"
  },
  "language_info": {
   "codemirror_mode": {
    "name": "ipython",
    "version": 2
   },
   "file_extension": ".py",
   "mimetype": "text/x-python",
   "name": "python",
   "nbconvert_exporter": "python",
   "pygments_lexer": "ipython2",
   "version": "2.7.6"
  }
 },
 "nbformat": 4,
 "nbformat_minor": 0
}
