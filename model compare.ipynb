{
 "metadata": {
  "kernelspec": {
   "language": "python",
   "display_name": "Python 3",
   "name": "python3"
  },
  "language_info": {
   "pygments_lexer": "ipython3",
   "nbconvert_exporter": "python",
   "version": "3.6.4",
   "file_extension": ".py",
   "codemirror_mode": {
    "name": "ipython",
    "version": 3
   },
   "name": "python",
   "mimetype": "text/x-python"
  }
 },
 "nbformat_minor": 4,
 "nbformat": 4,
 "cells": [
  {
   "cell_type": "markdown",
   "source": [
    "# Comparatifs de modèles\n",
    "Les features présentées ne sont pas à jour avec la dernière version du main\n",
    "## Imports"
   ],
   "metadata": {}
  },
  {
   "cell_type": "code",
   "source": [
    "import matplotlib.pyplot as plt\n",
    "import numpy as np\n",
    "import pandas as pd\n",
    "import xgboost as xgb\n",
    "from sklearn.decomposition import PCA\n",
    "from sklearn.metrics import mean_squared_error, mean_absolute_error, r2_score, mean_squared_log_error\n",
    "from sklearn.model_selection import train_test_split\n",
    "from sklearn.pipeline import Pipeline\n",
    "from sklearn.preprocessing import LabelEncoder\n",
    "from sklearn.preprocessing import StandardScaler"
   ],
   "metadata": {
    "collapsed": false,
    "jupyter": {
     "outputs_hidden": false
    },
    "execution": {
     "iopub.status.busy": "2023-06-12T16:48:49.750219Z",
     "iopub.execute_input": "2023-06-12T16:48:49.750642Z",
     "iopub.status.idle": "2023-06-12T16:48:51.061886Z",
     "shell.execute_reply.started": "2023-06-12T16:48:49.750601Z",
     "shell.execute_reply": "2023-06-12T16:48:51.060784Z"
    },
    "trusted": true,
    "ExecuteTime": {
     "end_time": "2023-06-21T18:52:06.384844600Z",
     "start_time": "2023-06-21T18:52:06.347980300Z"
    }
   },
   "execution_count": 48,
   "outputs": []
  },
  {
   "cell_type": "markdown",
   "source": [
    "## Global variables and read data"
   ],
   "metadata": {}
  },
  {
   "cell_type": "code",
   "source": [
    "# DATAPATH = \"/kaggle/input/store-sales-time-series-forecasting\"\n",
    "DATAPATH = \"data/store-sales\"\n",
    "FIGSIZE = (14, 4)"
   ],
   "metadata": {
    "collapsed": false,
    "jupyter": {
     "outputs_hidden": false
    },
    "execution": {
     "iopub.status.busy": "2023-06-12T16:48:51.063758Z",
     "iopub.execute_input": "2023-06-12T16:48:51.064092Z",
     "iopub.status.idle": "2023-06-12T16:48:51.071132Z",
     "shell.execute_reply.started": "2023-06-12T16:48:51.064061Z",
     "shell.execute_reply": "2023-06-12T16:48:51.069498Z"
    },
    "trusted": true,
    "ExecuteTime": {
     "end_time": "2023-06-21T18:52:06.549338300Z",
     "start_time": "2023-06-21T18:52:06.356321700Z"
    }
   },
   "execution_count": 49,
   "outputs": []
  },
  {
   "cell_type": "code",
   "source": [
    "train_df = pd.read_csv(DATAPATH + '/train.csv',\n",
    "                       usecols=['id', 'store_nbr', 'family', 'date', 'sales', 'onpromotion'],\n",
    "                       dtype={\n",
    "                           'id': 'uint32',\n",
    "                           'store_nbr': 'int32',\n",
    "                           'family': 'string',\n",
    "                           'sales': 'float32',\n",
    "                           'onpromotion': 'uint32',\n",
    "                       },\n",
    "                       parse_dates=['date'])\n",
    "\n",
    "test_df = pd.read_csv(DATAPATH + '/test.csv',\n",
    "                      dtype={\n",
    "                          'id': 'uint32',\n",
    "                          'store_nbr': 'int32',\n",
    "                          'family': 'string',\n",
    "                          'onpromotion': 'uint32',\n",
    "                      },\n",
    "                      parse_dates=['date'])\n",
    "\n",
    "stores_df = pd.read_csv(DATAPATH + '/stores.csv',\n",
    "                        dtype={\n",
    "                            'store_nbr': 'int32',\n",
    "                            'city': 'string',\n",
    "                            'state': 'string',\n",
    "                            'type': 'string',\n",
    "                            'cluster': 'int32',\n",
    "                        })\n",
    "\n",
    "stores_df = stores_df.rename(columns={'type': 'store_type'})\n",
    "\n",
    "transactions_df = pd.read_csv(DATAPATH + '/transactions.csv',\n",
    "                              dtype={\n",
    "                                  'store_nbr': 'int32',\n",
    "                                  'transactions': 'uint32'\n",
    "                              },\n",
    "                              parse_dates=['date'])\n",
    "\n",
    "oil_df = pd.read_csv(DATAPATH + '/oil.csv',\n",
    "                     dtype={'dcoilwtico': 'float32'},\n",
    "                     parse_dates=['date'])\n",
    "\n",
    "holidays_df = pd.read_csv(DATAPATH + '/holidays_events.csv',\n",
    "                          dtype={\n",
    "                              'type': 'string',\n",
    "                              'locale': 'string',\n",
    "                              'locale_name': 'string',\n",
    "                              'description': 'string',\n",
    "                              'transferred': 'bool',\n",
    "                          },\n",
    "                          parse_dates=['date'])\n",
    "holidays_df = holidays_df.rename(columns={'type': 'holiday_type'})\n"
   ],
   "metadata": {
    "collapsed": false,
    "jupyter": {
     "outputs_hidden": false
    },
    "execution": {
     "iopub.status.busy": "2023-06-12T16:48:51.073635Z",
     "iopub.execute_input": "2023-06-12T16:48:51.075297Z",
     "iopub.status.idle": "2023-06-12T16:48:54.954612Z",
     "shell.execute_reply.started": "2023-06-12T16:48:51.075265Z",
     "shell.execute_reply": "2023-06-12T16:48:54.953697Z"
    },
    "trusted": true,
    "ExecuteTime": {
     "end_time": "2023-06-21T18:52:07.692540800Z",
     "start_time": "2023-06-21T18:52:06.384844600Z"
    }
   },
   "execution_count": 50,
   "outputs": []
  },
  {
   "cell_type": "code",
   "source": [
    "nb_outsamples = test_df['date'].nunique()\n",
    "nb_stores = train_df['store_nbr'].nunique()\n",
    "nb_families = train_df['family'].nunique()"
   ],
   "metadata": {
    "execution": {
     "iopub.status.busy": "2023-06-12T16:48:54.957203Z",
     "iopub.execute_input": "2023-06-12T16:48:54.957794Z",
     "iopub.status.idle": "2023-06-12T16:48:55.303067Z",
     "shell.execute_reply.started": "2023-06-12T16:48:54.957759Z",
     "shell.execute_reply": "2023-06-12T16:48:55.302155Z"
    },
    "trusted": true,
    "ExecuteTime": {
     "end_time": "2023-06-21T18:52:07.833786800Z",
     "start_time": "2023-06-21T18:52:07.694548700Z"
    }
   },
   "execution_count": 51,
   "outputs": []
  },
  {
   "cell_type": "markdown",
   "source": [
    "## Features"
   ],
   "metadata": {}
  },
  {
   "cell_type": "code",
   "source": [
    "def remove_outliers(df):\n",
    "    val = df.sales.quantile(0.99)\n",
    "    df = df.drop(df[df.sales > val].index)\n",
    "    return df\n",
    "\n",
    "# train_df = remove_outliers(train_df)"
   ],
   "metadata": {
    "collapsed": false,
    "jupyter": {
     "outputs_hidden": false
    },
    "execution": {
     "iopub.status.busy": "2023-06-12T16:48:55.304416Z",
     "iopub.execute_input": "2023-06-12T16:48:55.304959Z",
     "iopub.status.idle": "2023-06-12T16:48:55.732548Z",
     "shell.execute_reply.started": "2023-06-12T16:48:55.304927Z",
     "shell.execute_reply": "2023-06-12T16:48:55.731634Z"
    },
    "trusted": true,
    "ExecuteTime": {
     "end_time": "2023-06-21T18:52:07.848094600Z",
     "start_time": "2023-06-21T18:52:07.834787400Z"
    }
   },
   "execution_count": 52,
   "outputs": []
  },
  {
   "cell_type": "code",
   "source": [
    "def assign_time_ft(df):\n",
    "    dt_index = df['date'].dt\n",
    "\n",
    "    df['day'] = dt_index.day\n",
    "    df['payday'] = ((dt_index.day == 15) | dt_index.is_month_end).astype('int')\n",
    "    df['dayofweek'] = dt_index.day_of_week.astype('int')\n",
    "    df[\"dayofyear\"] = dt_index.dayofyear\n",
    "    df['weekday'] = dt_index.weekday\n",
    "    df['month'] = dt_index.month\n",
    "    df['month_end'] = dt_index.is_month_end.astype('int')\n",
    "\n",
    "    df['year'] = dt_index.year\n",
    "    df['newyear'] = df[\"dayofyear\"] == 1\n",
    "\n",
    "    df['startschool'] = dt_index.month.isin((4, 5, 8, 9))\n",
    "\n",
    "    return df\n",
    "\n",
    "\n",
    "train_df = assign_time_ft(train_df)\n",
    "test_df = assign_time_ft(test_df)"
   ],
   "metadata": {
    "collapsed": false,
    "jupyter": {
     "outputs_hidden": false
    },
    "execution": {
     "iopub.status.busy": "2023-06-12T16:48:55.737073Z",
     "iopub.execute_input": "2023-06-12T16:48:55.739264Z",
     "iopub.status.idle": "2023-06-12T16:48:58.207875Z",
     "shell.execute_reply.started": "2023-06-12T16:48:55.739229Z",
     "shell.execute_reply": "2023-06-12T16:48:58.206946Z"
    },
    "trusted": true,
    "ExecuteTime": {
     "end_time": "2023-06-21T18:52:08.444841500Z",
     "start_time": "2023-06-21T18:52:07.851109600Z"
    }
   },
   "execution_count": 53,
   "outputs": []
  },
  {
   "cell_type": "code",
   "source": [
    "def preprocess_oil(oil):\n",
    "    oil['month'] = oil['date'].dt.month\n",
    "    oil['month_avg'] = oil.groupby('month')['dcoilwtico'].transform('mean')\n",
    "\n",
    "    oil['tmp'] = oil['dcoilwtico'].map(np.isnan)\n",
    "    oil['month_avg'] = oil['tmp'] * oil['month_avg']\n",
    "    oil['month_avg'] = oil['month_avg'].astype(float)\n",
    "\n",
    "    oil['dcoilwtico'].fillna(0, inplace=True)\n",
    "    oil['dcoilwtico'] = oil['dcoilwtico'] + oil['month_avg']\n",
    "\n",
    "    oil = oil.drop(['month', 'month_avg', 'tmp'], axis=1)\n",
    "\n",
    "    return oil\n",
    "\n",
    "\n",
    "oil_df = preprocess_oil(oil_df)"
   ],
   "metadata": {
    "collapsed": false,
    "jupyter": {
     "outputs_hidden": false
    },
    "execution": {
     "iopub.status.busy": "2023-06-12T16:48:58.209399Z",
     "iopub.execute_input": "2023-06-12T16:48:58.209756Z",
     "iopub.status.idle": "2023-06-12T16:48:58.226561Z",
     "shell.execute_reply.started": "2023-06-12T16:48:58.209723Z",
     "shell.execute_reply": "2023-06-12T16:48:58.225617Z"
    },
    "trusted": true,
    "ExecuteTime": {
     "end_time": "2023-06-21T18:52:08.459308700Z",
     "start_time": "2023-06-21T18:52:08.448856400Z"
    }
   },
   "execution_count": 54,
   "outputs": []
  },
  {
   "cell_type": "code",
   "source": [
    "def preprocess_holiday(df):\n",
    "    filtered_holiday = df[(df['transferred'] == False) & (df['holiday_type'] != 'Work Day')]\n",
    "\n",
    "    event = df[df['holiday_type'] == 'Event']\n",
    "    earthquake = event[event['description'].str.startswith('Terremoto Manabi')]\n",
    "    event = event[event['description'].str.startswith('Terremoto Manabi') == False]\n",
    "\n",
    "    return filtered_holiday, event, earthquake\n",
    "\n",
    "\n",
    "filtered_df, event_df, earthquake_df = preprocess_holiday(holidays_df)"
   ],
   "metadata": {
    "collapsed": false,
    "jupyter": {
     "outputs_hidden": false
    },
    "execution": {
     "iopub.status.busy": "2023-06-12T16:48:58.228021Z",
     "iopub.execute_input": "2023-06-12T16:48:58.228557Z",
     "iopub.status.idle": "2023-06-12T16:48:58.241532Z",
     "shell.execute_reply.started": "2023-06-12T16:48:58.228524Z",
     "shell.execute_reply": "2023-06-12T16:48:58.240607Z"
    },
    "trusted": true,
    "ExecuteTime": {
     "end_time": "2023-06-21T18:52:08.481105900Z",
     "start_time": "2023-06-21T18:52:08.469291400Z"
    }
   },
   "execution_count": 55,
   "outputs": []
  },
  {
   "cell_type": "code",
   "source": [
    "event_df = event_df[['date', 'description']]\n",
    "event_df.rename({'description': 'event_name'}, axis=1, inplace=True)\n",
    "\n",
    "earthquake_df = earthquake_df[['date', 'description']]\n",
    "earthquake_df.rename({'description': 'earthquake'}, axis=1, inplace=True)"
   ],
   "metadata": {
    "collapsed": false,
    "jupyter": {
     "outputs_hidden": false
    },
    "execution": {
     "iopub.status.busy": "2023-06-12T16:48:58.242964Z",
     "iopub.execute_input": "2023-06-12T16:48:58.243359Z",
     "iopub.status.idle": "2023-06-12T16:48:58.254929Z",
     "shell.execute_reply.started": "2023-06-12T16:48:58.243328Z",
     "shell.execute_reply": "2023-06-12T16:48:58.254158Z"
    },
    "trusted": true,
    "ExecuteTime": {
     "end_time": "2023-06-21T18:52:08.490342200Z",
     "start_time": "2023-06-21T18:52:08.480093800Z"
    }
   },
   "execution_count": 56,
   "outputs": []
  },
  {
   "cell_type": "code",
   "source": [
    "h_local = filtered_df[filtered_df['locale'] == 'Local']\n",
    "h_local = h_local[['date', 'locale_name', 'description']]\n",
    "h_local = h_local.rename({'locale_name': 'city', 'description': 'local_hname'}, axis=1)\n",
    "\n",
    "h_regional = filtered_df[filtered_df['locale'] == 'Regional']\n",
    "h_regional = h_regional[['date', 'locale_name', 'description']]\n",
    "h_regional = h_regional.rename({'locale_name': 'state', 'description': 'regional_hname'}, axis=1)\n",
    "\n",
    "h_national = filtered_df[filtered_df['locale'] == 'National']\n",
    "h_national = h_national[['date', 'description']]\n",
    "h_national = h_national.rename({'description': 'national_hname'}, axis=1)"
   ],
   "metadata": {
    "collapsed": false,
    "jupyter": {
     "outputs_hidden": false
    },
    "execution": {
     "iopub.status.busy": "2023-06-12T16:48:58.259964Z",
     "iopub.execute_input": "2023-06-12T16:48:58.261315Z",
     "iopub.status.idle": "2023-06-12T16:48:58.274763Z",
     "shell.execute_reply.started": "2023-06-12T16:48:58.261283Z",
     "shell.execute_reply": "2023-06-12T16:48:58.273859Z"
    },
    "trusted": true,
    "ExecuteTime": {
     "end_time": "2023-06-21T18:52:08.517482800Z",
     "start_time": "2023-06-21T18:52:08.496357Z"
    }
   },
   "execution_count": 57,
   "outputs": []
  },
  {
   "cell_type": "code",
   "source": [
    "def merge_tables(df):\n",
    "    df = df.merge(oil_df, on='date', how='left')\n",
    "    df = df.merge(stores_df, on='store_nbr', how='left')\n",
    "\n",
    "    df = df.merge(event_df, on='date', how='left')\n",
    "    df = df.merge(earthquake_df, on='date', how='left')\n",
    "    df = df.merge(h_local, on=['date', 'city'], how='left')\n",
    "    df = df.merge(h_regional, on=['date', 'state'], how='left')\n",
    "    df = df.merge(h_national, on='date', how='left')\n",
    "\n",
    "    df = df.merge(transactions_df, on=['date', 'store_nbr'], how='left')\n",
    "\n",
    "    return df\n",
    "\n",
    "\n",
    "train_df = merge_tables(train_df)\n",
    "test_df = merge_tables(test_df)"
   ],
   "metadata": {
    "collapsed": false,
    "jupyter": {
     "outputs_hidden": false
    },
    "execution": {
     "iopub.status.busy": "2023-06-12T16:48:58.276152Z",
     "iopub.execute_input": "2023-06-12T16:48:58.276529Z",
     "iopub.status.idle": "2023-06-12T16:49:13.316466Z",
     "shell.execute_reply.started": "2023-06-12T16:48:58.276499Z",
     "shell.execute_reply": "2023-06-12T16:49:13.315528Z"
    },
    "trusted": true,
    "ExecuteTime": {
     "end_time": "2023-06-21T18:52:16.095844900Z",
     "start_time": "2023-06-21T18:52:08.505808900Z"
    }
   },
   "execution_count": 58,
   "outputs": []
  },
  {
   "cell_type": "code",
   "source": [
    "del h_local, h_regional, h_national, earthquake_df, event_df, stores_df, oil_df, filtered_df, transactions_df"
   ],
   "metadata": {
    "execution": {
     "iopub.status.busy": "2023-06-12T16:49:13.317724Z",
     "iopub.execute_input": "2023-06-12T16:49:13.319045Z",
     "iopub.status.idle": "2023-06-12T16:49:13.324492Z",
     "shell.execute_reply.started": "2023-06-12T16:49:13.318973Z",
     "shell.execute_reply": "2023-06-12T16:49:13.323525Z"
    },
    "trusted": true,
    "ExecuteTime": {
     "end_time": "2023-06-21T18:52:16.111594300Z",
     "start_time": "2023-06-21T18:52:16.097544Z"
    }
   },
   "execution_count": 59,
   "outputs": []
  },
  {
   "cell_type": "code",
   "source": [
    "def handle_na(df):\n",
    "    obj_vals = ['event_name', 'earthquake', 'local_hname', 'regional_hname', 'national_hname']\n",
    "    df[obj_vals] = df[obj_vals].fillna('0')\n",
    "\n",
    "    return df\n",
    "\n",
    "\n",
    "train_df = handle_na(train_df)\n",
    "test_df = handle_na(test_df)"
   ],
   "metadata": {
    "collapsed": false,
    "jupyter": {
     "outputs_hidden": false
    },
    "execution": {
     "iopub.status.busy": "2023-06-12T16:49:13.325897Z",
     "iopub.execute_input": "2023-06-12T16:49:13.326526Z",
     "iopub.status.idle": "2023-06-12T16:49:14.879758Z",
     "shell.execute_reply.started": "2023-06-12T16:49:13.326494Z",
     "shell.execute_reply": "2023-06-12T16:49:14.878825Z"
    },
    "trusted": true,
    "ExecuteTime": {
     "end_time": "2023-06-21T18:52:16.901568600Z",
     "start_time": "2023-06-21T18:52:16.176823900Z"
    }
   },
   "execution_count": 60,
   "outputs": []
  },
  {
   "cell_type": "code",
   "source": [
    "encode_cols = ['family', 'store_nbr', 'store_type', 'event_name', 'earthquake', 'city', 'cluster', 'state',\n",
    "               'local_hname', 'regional_hname', 'national_hname']\n",
    "\n",
    "lb = LabelEncoder()\n",
    "\n",
    "for c in encode_cols:\n",
    "    train_df[c] = lb.fit_transform(train_df[c])\n",
    "    test_df[c] = lb.transform(test_df[c])\n",
    "\n",
    "del encode_cols, lb"
   ],
   "metadata": {
    "collapsed": false,
    "jupyter": {
     "outputs_hidden": false
    },
    "execution": {
     "iopub.status.busy": "2023-06-12T16:49:14.881131Z",
     "iopub.execute_input": "2023-06-12T16:49:14.881556Z",
     "iopub.status.idle": "2023-06-12T16:49:22.305364Z",
     "shell.execute_reply.started": "2023-06-12T16:49:14.881524Z",
     "shell.execute_reply": "2023-06-12T16:49:22.304438Z"
    },
    "trusted": true,
    "ExecuteTime": {
     "end_time": "2023-06-21T18:52:19.809817Z",
     "start_time": "2023-06-21T18:52:16.903746200Z"
    }
   },
   "execution_count": 61,
   "outputs": []
  },
  {
   "cell_type": "code",
   "source": [
    "def optimize_mem(df, for_int=False):\n",
    "    gl_fl = df.select_dtypes(include=['float'])\n",
    "    df[gl_fl.columns] = gl_fl.apply(pd.to_numeric, downcast=\"float\")\n",
    "\n",
    "    gl_int = df.select_dtypes(include=['int'])\n",
    "    down_target = \"integer\" if for_int else \"unsigned\"\n",
    "\n",
    "    df[gl_int.columns] = gl_int.apply(pd.to_numeric, downcast=down_target)\n",
    "\n",
    "    return df"
   ],
   "metadata": {
    "execution": {
     "iopub.status.busy": "2023-06-12T16:49:22.306640Z",
     "iopub.execute_input": "2023-06-12T16:49:22.307066Z",
     "iopub.status.idle": "2023-06-12T16:49:22.313897Z",
     "shell.execute_reply.started": "2023-06-12T16:49:22.307033Z",
     "shell.execute_reply": "2023-06-12T16:49:22.313072Z"
    },
    "trusted": true,
    "ExecuteTime": {
     "end_time": "2023-06-21T18:52:19.826031300Z",
     "start_time": "2023-06-21T18:52:19.814304700Z"
    }
   },
   "execution_count": 62,
   "outputs": []
  },
  {
   "cell_type": "code",
   "source": [
    "train_ids = train_df.id\n",
    "test_ids = test_df.id\n",
    "\n",
    "all_data = pd.concat([train_df, test_df]).reset_index()\n",
    "all_data = optimize_mem(all_data)"
   ],
   "metadata": {
    "collapsed": false,
    "jupyter": {
     "outputs_hidden": false
    },
    "execution": {
     "iopub.status.busy": "2023-06-12T16:49:22.315059Z",
     "iopub.execute_input": "2023-06-12T16:49:22.315684Z",
     "iopub.status.idle": "2023-06-12T16:49:25.511607Z",
     "shell.execute_reply.started": "2023-06-12T16:49:22.315653Z",
     "shell.execute_reply": "2023-06-12T16:49:25.510688Z"
    },
    "trusted": true,
    "ExecuteTime": {
     "end_time": "2023-06-21T18:52:21.409591500Z",
     "start_time": "2023-06-21T18:52:19.827031200Z"
    }
   },
   "execution_count": 63,
   "outputs": []
  },
  {
   "cell_type": "code",
   "source": [
    "def get_closed(df):\n",
    "    df['isclosed'] = df.groupby(by=['date', 'store_nbr'])['sales'].transform(lambda x: 1 if x.sum() == 0 else 0)\n",
    "\n",
    "    df.loc[((df['date'].dt.year == 2017) & (df['date'].dt.month == 8) & (df['date'].dt.day >= 16))\n",
    "    , 'isclosed'] = df['isclosed'].apply(lambda x: 0)\n",
    "\n",
    "    return df\n",
    "\n",
    "\n",
    "all_data = get_closed(all_data)"
   ],
   "metadata": {
    "execution": {
     "iopub.status.busy": "2023-06-12T16:49:25.512844Z",
     "iopub.execute_input": "2023-06-12T16:49:25.513359Z",
     "iopub.status.idle": "2023-06-12T16:49:45.735628Z",
     "shell.execute_reply.started": "2023-06-12T16:49:25.513328Z",
     "shell.execute_reply": "2023-06-12T16:49:45.734660Z"
    },
    "trusted": true,
    "ExecuteTime": {
     "end_time": "2023-06-21T18:52:34.520877600Z",
     "start_time": "2023-06-21T18:52:21.414513200Z"
    }
   },
   "execution_count": 64,
   "outputs": []
  },
  {
   "cell_type": "code",
   "source": [
    "df_zeros = all_data[all_data.isclosed == 1]\n",
    "df_zeros = optimize_mem(df_zeros)"
   ],
   "metadata": {
    "execution": {
     "iopub.status.busy": "2023-06-12T16:49:45.736903Z",
     "iopub.execute_input": "2023-06-12T16:49:45.737262Z",
     "iopub.status.idle": "2023-06-12T16:49:45.849377Z",
     "shell.execute_reply.started": "2023-06-12T16:49:45.737230Z",
     "shell.execute_reply": "2023-06-12T16:49:45.848235Z"
    },
    "trusted": true,
    "ExecuteTime": {
     "end_time": "2023-06-21T18:52:34.580486700Z",
     "start_time": "2023-06-21T18:52:34.523368100Z"
    }
   },
   "execution_count": 65,
   "outputs": [
    {
     "name": "stderr",
     "output_type": "stream",
     "text": [
      "C:\\Users\\thoma\\AppData\\Local\\Temp\\ipykernel_11780\\866086434.py:3: SettingWithCopyWarning: \n",
      "A value is trying to be set on a copy of a slice from a DataFrame.\n",
      "Try using .loc[row_indexer,col_indexer] = value instead\n",
      "\n",
      "See the caveats in the documentation: https://pandas.pydata.org/pandas-docs/stable/user_guide/indexing.html#returning-a-view-versus-a-copy\n",
      "  df[gl_fl.columns] = gl_fl.apply(pd.to_numeric, downcast=\"float\")\n",
      "C:\\Users\\thoma\\AppData\\Local\\Temp\\ipykernel_11780\\866086434.py:8: SettingWithCopyWarning: \n",
      "A value is trying to be set on a copy of a slice from a DataFrame.\n",
      "Try using .loc[row_indexer,col_indexer] = value instead\n",
      "\n",
      "See the caveats in the documentation: https://pandas.pydata.org/pandas-docs/stable/user_guide/indexing.html#returning-a-view-versus-a-copy\n",
      "  df[gl_int.columns] = gl_int.apply(pd.to_numeric, downcast=down_target)\n"
     ]
    }
   ]
  },
  {
   "cell_type": "code",
   "source": [
    "def lag_ft(df, lag_limit):\n",
    "    targets = ['sales', 'dcoilwtico', 'transactions']\n",
    "    keys = ['store_nbr', 'family']\n",
    "\n",
    "    lagres_df = pd.DataFrame()\n",
    "    for target in targets:\n",
    "        for lag in range(1, lag_limit + 1):\n",
    "            lagres_df[target + '_lag_' + str(lag)] = df.groupby(keys)[target].shift(lag)\n",
    "\n",
    "    return lagres_df\n",
    "\n",
    "\n",
    "lag_df = lag_ft(all_data[['store_nbr', 'family', 'sales', 'dcoilwtico', 'transactions']], lag_limit=5)\n",
    "all_data = all_data.join(lag_df)"
   ],
   "metadata": {
    "collapsed": false,
    "jupyter": {
     "outputs_hidden": false
    },
    "execution": {
     "iopub.status.busy": "2023-06-12T16:49:45.850824Z",
     "iopub.execute_input": "2023-06-12T16:49:45.851258Z",
     "iopub.status.idle": "2023-06-12T16:49:48.826445Z",
     "shell.execute_reply.started": "2023-06-12T16:49:45.851223Z",
     "shell.execute_reply": "2023-06-12T16:49:48.825485Z"
    },
    "trusted": true,
    "ExecuteTime": {
     "end_time": "2023-06-21T18:52:36.636278500Z",
     "start_time": "2023-06-21T18:52:34.584503100Z"
    }
   },
   "execution_count": 66,
   "outputs": []
  },
  {
   "cell_type": "code",
   "source": [
    "all_data = all_data.drop_duplicates(subset=['id'], keep='first')\n",
    "all_data = optimize_mem(all_data)"
   ],
   "metadata": {
    "execution": {
     "iopub.status.busy": "2023-06-12T16:49:48.827986Z",
     "iopub.execute_input": "2023-06-12T16:49:48.828367Z",
     "iopub.status.idle": "2023-06-12T16:49:50.081996Z",
     "shell.execute_reply.started": "2023-06-12T16:49:48.828332Z",
     "shell.execute_reply": "2023-06-12T16:49:50.081012Z"
    },
    "trusted": true,
    "ExecuteTime": {
     "end_time": "2023-06-21T18:52:37.385452300Z",
     "start_time": "2023-06-21T18:52:36.636782100Z"
    }
   },
   "execution_count": 67,
   "outputs": []
  },
  {
   "cell_type": "code",
   "source": [
    "def create_rolling_ft(new_df):\n",
    "    targets = ['sales', 'dcoilwtico']\n",
    "    rollings = [3, 7, 14, 30]\n",
    "\n",
    "    shift_df = pd.DataFrame()\n",
    "\n",
    "    for target in targets:\n",
    "        print(f'Creating {target} features')\n",
    "        grouped = new_df.groupby([\"store_nbr\", \"family\"])[target]\n",
    "\n",
    "        for rollval in rollings:\n",
    "            results = {}\n",
    "\n",
    "            avg_roll = grouped.rolling(rollval).mean()\n",
    "            max_roll = grouped.rolling(rollval).max()\n",
    "            min_roll = grouped.rolling(rollval).min()\n",
    "\n",
    "            results[f\"SMA{str(rollval)}_{target}_lag7_avg\"] = avg_roll.shift(7).values\n",
    "            results[f\"SMA{str(rollval)}_{target}_lag7_max\"] = max_roll.shift(7).values\n",
    "            results[f\"SMA{str(rollval)}_{target}_lag7_min\"] = min_roll.shift(7).values\n",
    "\n",
    "            results[f\"SMA{str(rollval)}_{target}_lag30_avg\"] = avg_roll.shift(30).values\n",
    "            results[f\"SMA{str(rollval)}_{target}_lag30_max\"] = max_roll.shift(30).values\n",
    "            results[f\"SMA{str(rollval)}_{target}_lag30_min\"] = min_roll.shift(30).values\n",
    "\n",
    "            results[f\"SMA{str(rollval)}_{target}_lag60_avg\"] = avg_roll.shift(60).values\n",
    "            results[f\"SMA{str(rollval)}_{target}_lag60_max\"] = max_roll.shift(60).values\n",
    "            results[f\"SMA{str(rollval)}_{target}_lag60_min\"] = min_roll.shift(60).values\n",
    "\n",
    "            result_df = pd.DataFrame.from_dict(results)\n",
    "            shift_df = pd.concat([shift_df, result_df], axis=1)\n",
    "\n",
    "        shift_df = optimize_mem(shift_df)\n",
    "\n",
    "    return shift_df\n",
    "\n",
    "\n",
    "print(\"Creating rolling features\")\n",
    "sort_df = all_data[[\"store_nbr\", \"family\", \"date\", 'sales', 'dcoilwtico']].sort_values([\"store_nbr\", \"family\", \"date\"])\n",
    "res_df = create_rolling_ft(sort_df)\n",
    "all_data = all_data.join(res_df)\n",
    "print('Out')"
   ],
   "metadata": {
    "collapsed": false,
    "jupyter": {
     "outputs_hidden": false
    },
    "execution": {
     "iopub.status.busy": "2023-06-12T16:49:50.083478Z",
     "iopub.execute_input": "2023-06-12T16:49:50.083814Z",
     "iopub.status.idle": "2023-06-12T16:50:34.788496Z",
     "shell.execute_reply.started": "2023-06-12T16:49:50.083781Z",
     "shell.execute_reply": "2023-06-12T16:50:34.787497Z"
    },
    "trusted": true,
    "ExecuteTime": {
     "end_time": "2023-06-21T18:53:10.613000400Z",
     "start_time": "2023-06-21T18:52:37.393569300Z"
    }
   },
   "execution_count": 68,
   "outputs": [
    {
     "name": "stdout",
     "output_type": "stream",
     "text": [
      "Creating rolling features\n",
      "Creating sales features\n",
      "Creating dcoilwtico features\n",
      "Out\n"
     ]
    }
   ]
  },
  {
   "cell_type": "code",
   "source": [
    "def create_smallrolling_ft(new_df):\n",
    "    targets = ['transactions']\n",
    "    rollings = [3, 7]\n",
    "\n",
    "    shift_df = pd.DataFrame()\n",
    "\n",
    "    for target in targets:\n",
    "        print(f'Creating {target} features')\n",
    "        grouped = new_df.groupby([\"store_nbr\", \"family\"])[target]\n",
    "\n",
    "        for rollval in rollings:\n",
    "            results = {}\n",
    "\n",
    "            avg_roll = grouped.rolling(rollval).mean()\n",
    "            max_roll = grouped.rolling(rollval).max()\n",
    "            min_roll = grouped.rolling(rollval).min()\n",
    "\n",
    "            results[f\"SMA{str(rollval)}_{target}_lag7_avg\"] = avg_roll.shift(7).values\n",
    "            results[f\"SMA{str(rollval)}_{target}_lag7_max\"] = max_roll.shift(7).values\n",
    "            results[f\"SMA{str(rollval)}_{target}_lag7_min\"] = min_roll.shift(7).values\n",
    "\n",
    "            results[f\"SMA{str(rollval)}_{target}_lag30_avg\"] = avg_roll.shift(30).values\n",
    "            results[f\"SMA{str(rollval)}_{target}_lag30_max\"] = max_roll.shift(30).values\n",
    "            results[f\"SMA{str(rollval)}_{target}_lag30_min\"] = min_roll.shift(30).values\n",
    "\n",
    "            results[f\"SMA{str(rollval)}_{target}_lag60_avg\"] = avg_roll.shift(60).values\n",
    "            results[f\"SMA{str(rollval)}_{target}_lag60_max\"] = max_roll.shift(60).values\n",
    "            results[f\"SMA{str(rollval)}_{target}_lag60_min\"] = min_roll.shift(60).values\n",
    "\n",
    "            result_df = pd.DataFrame.from_dict(results)\n",
    "            shift_df = pd.concat([shift_df, result_df], axis=1)\n",
    "\n",
    "        shift_df = optimize_mem(shift_df)\n",
    "\n",
    "    return shift_df\n",
    "\n",
    "\n",
    "\"\"\"print(\"Creating small rolling features\")\n",
    "sort_df = all_data[[\"store_nbr\", \"family\", \"date\",'transactions']].sort_values([\"store_nbr\", \"family\", \"date\"])\n",
    "res_df = create_smallrolling_ft(sort_df)\n",
    "all_data = all_data.join(res_df)\n",
    "print('Out')\"\"\""
   ],
   "metadata": {
    "execution": {
     "iopub.status.busy": "2023-06-12T16:50:34.790054Z",
     "iopub.execute_input": "2023-06-12T16:50:34.790440Z",
     "iopub.status.idle": "2023-06-12T16:50:46.841043Z",
     "shell.execute_reply.started": "2023-06-12T16:50:34.790404Z",
     "shell.execute_reply": "2023-06-12T16:50:46.839925Z"
    },
    "trusted": true,
    "ExecuteTime": {
     "end_time": "2023-06-21T18:53:10.645530900Z",
     "start_time": "2023-06-21T18:53:10.625591400Z"
    }
   },
   "execution_count": 69,
   "outputs": [
    {
     "data": {
      "text/plain": "'print(\"Creating small rolling features\")\\nsort_df = all_data[[\"store_nbr\", \"family\", \"date\",\\'transactions\\']].sort_values([\"store_nbr\", \"family\", \"date\"])\\nres_df = create_smallrolling_ft(sort_df)\\nall_data = all_data.join(res_df)\\nprint(\\'Out\\')'"
     },
     "execution_count": 69,
     "metadata": {},
     "output_type": "execute_result"
    }
   ]
  },
  {
   "cell_type": "code",
   "source": [
    "def create_exp_mov_av(df):\n",
    "    targets = ['sales', 'dcoilwtico']\n",
    "    span = [7, 16, 30, 60]\n",
    "\n",
    "    ewm_df = pd.DataFrame()\n",
    "\n",
    "    for target in targets:\n",
    "        print(f'Creating {target} features')\n",
    "        grouped = df.groupby([\"store_nbr\", \"family\"])[target]\n",
    "\n",
    "        for sp in span:\n",
    "            ewm_df[f'{target}_ewm_span_{sp}'] = grouped.ewm(span=sp).mean().values\n",
    "\n",
    "        ewm_df = optimize_mem(ewm_df)\n",
    "\n",
    "    return ewm_df\n",
    "\n",
    "\n",
    "print(\"Creating ewm features\")\n",
    "res_df = create_exp_mov_av(all_data[[\"store_nbr\", \"family\", 'sales', 'dcoilwtico']])\n",
    "all_data = all_data.join(res_df)\n",
    "print('Out')"
   ],
   "metadata": {
    "collapsed": false,
    "jupyter": {
     "outputs_hidden": false
    },
    "execution": {
     "iopub.status.busy": "2023-06-12T16:50:46.842612Z",
     "iopub.execute_input": "2023-06-12T16:50:46.842980Z",
     "iopub.status.idle": "2023-06-12T16:51:04.162020Z",
     "shell.execute_reply.started": "2023-06-12T16:50:46.842947Z",
     "shell.execute_reply": "2023-06-12T16:51:04.161020Z"
    },
    "trusted": true,
    "ExecuteTime": {
     "end_time": "2023-06-21T18:53:18.401458800Z",
     "start_time": "2023-06-21T18:53:10.641207200Z"
    }
   },
   "execution_count": 70,
   "outputs": [
    {
     "name": "stdout",
     "output_type": "stream",
     "text": [
      "Creating ewm features\n",
      "Creating sales features\n",
      "Creating dcoilwtico features\n",
      "Out\n"
     ]
    }
   ]
  },
  {
   "cell_type": "code",
   "source": [
    "del res_df, lag_df, sort_df"
   ],
   "metadata": {
    "collapsed": false,
    "jupyter": {
     "outputs_hidden": false
    },
    "execution": {
     "iopub.status.busy": "2023-06-12T16:51:04.163502Z",
     "iopub.execute_input": "2023-06-12T16:51:04.164104Z",
     "iopub.status.idle": "2023-06-12T16:51:04.171187Z",
     "shell.execute_reply.started": "2023-06-12T16:51:04.164070Z",
     "shell.execute_reply": "2023-06-12T16:51:04.170042Z"
    },
    "trusted": true,
    "ExecuteTime": {
     "end_time": "2023-06-21T18:53:18.435643300Z",
     "start_time": "2023-06-21T18:53:18.403485900Z"
    }
   },
   "execution_count": 71,
   "outputs": []
  },
  {
   "cell_type": "code",
   "source": [
    "all_data = all_data.sort_values(['id'])\n",
    "all_data = all_data.fillna(0)"
   ],
   "metadata": {
    "execution": {
     "iopub.status.busy": "2023-06-12T16:51:04.172434Z",
     "iopub.execute_input": "2023-06-12T16:51:04.172820Z",
     "iopub.status.idle": "2023-06-12T16:51:07.599973Z",
     "shell.execute_reply.started": "2023-06-12T16:51:04.172789Z",
     "shell.execute_reply": "2023-06-12T16:51:07.599029Z"
    },
    "trusted": true,
    "ExecuteTime": {
     "end_time": "2023-06-21T18:53:20.035070Z",
     "start_time": "2023-06-21T18:53:18.436644400Z"
    }
   },
   "execution_count": 72,
   "outputs": []
  },
  {
   "cell_type": "code",
   "source": [
    "all_data = optimize_mem(all_data, for_int=True)"
   ],
   "metadata": {
    "execution": {
     "iopub.status.busy": "2023-06-12T16:51:07.601287Z",
     "iopub.execute_input": "2023-06-12T16:51:07.601719Z",
     "iopub.status.idle": "2023-06-12T16:51:39.233756Z",
     "shell.execute_reply.started": "2023-06-12T16:51:07.601685Z",
     "shell.execute_reply": "2023-06-12T16:51:39.232808Z"
    },
    "trusted": true,
    "ExecuteTime": {
     "end_time": "2023-06-21T18:53:21.673412800Z",
     "start_time": "2023-06-21T18:53:20.036076600Z"
    }
   },
   "execution_count": 73,
   "outputs": []
  },
  {
   "cell_type": "code",
   "source": [
    "def split_dfs(df):\n",
    "    new_train = df[df['id'].isin(train_ids)]\n",
    "    new_test = df[df['id'].isin(test_ids)]\n",
    "\n",
    "    return new_train, new_test\n",
    "\n",
    "\n",
    "train_df, test_df = split_dfs(all_data)"
   ],
   "metadata": {
    "collapsed": false,
    "jupyter": {
     "outputs_hidden": false
    },
    "execution": {
     "iopub.status.busy": "2023-06-12T16:51:39.235205Z",
     "iopub.execute_input": "2023-06-12T16:51:39.235544Z",
     "iopub.status.idle": "2023-06-12T16:51:41.223657Z",
     "shell.execute_reply.started": "2023-06-12T16:51:39.235513Z",
     "shell.execute_reply": "2023-06-12T16:51:41.222756Z"
    },
    "trusted": true,
    "ExecuteTime": {
     "end_time": "2023-06-21T18:53:22.972286400Z",
     "start_time": "2023-06-21T18:53:21.691817300Z"
    }
   },
   "execution_count": 74,
   "outputs": []
  },
  {
   "cell_type": "code",
   "source": [
    "del all_data"
   ],
   "metadata": {
    "execution": {
     "iopub.status.busy": "2023-06-12T16:51:41.230153Z",
     "iopub.execute_input": "2023-06-12T16:51:41.230442Z",
     "iopub.status.idle": "2023-06-12T16:51:41.237689Z",
     "shell.execute_reply.started": "2023-06-12T16:51:41.230416Z",
     "shell.execute_reply": "2023-06-12T16:51:41.236661Z"
    },
    "trusted": true,
    "ExecuteTime": {
     "end_time": "2023-06-21T18:53:23.021355Z",
     "start_time": "2023-06-21T18:53:23.013620500Z"
    }
   },
   "execution_count": 75,
   "outputs": []
  },
  {
   "cell_type": "markdown",
   "source": [
    "## Training"
   ],
   "metadata": {}
  },
  {
   "cell_type": "code",
   "source": [
    "xgb_params = {\n",
    "    'n_estimators': 250,\n",
    "    'importance_type': 'gain',\n",
    "    'verbosity': 1,\n",
    "    'eval_metric': 'rmse',\n",
    "    'objective': 'reg:squarederror',\n",
    "    'random_state': 42,\n",
    "    'early_stopping_rounds': 30\n",
    "}"
   ],
   "metadata": {
    "ExecuteTime": {
     "end_time": "2023-06-21T18:53:23.036859800Z",
     "start_time": "2023-06-21T18:53:23.022376Z"
    }
   },
   "execution_count": 76,
   "outputs": []
  },
  {
   "cell_type": "code",
   "source": [
    "def train_model_xgb(train, y):\n",
    "    temp_train = train.copy()\n",
    "\n",
    "    x_tr, x_v, y_tr, y_v = train_test_split(temp_train, y, train_size=split_size, random_state=42, shuffle=False)\n",
    "\n",
    "    model = xgb.XGBRegressor(**xgb_params)\n",
    "    trained_model = model.fit(x_tr, y_tr, eval_set=[(x_v, y_v)])\n",
    "\n",
    "    return trained_model, x_v, y_v"
   ],
   "metadata": {
    "collapsed": false,
    "jupyter": {
     "outputs_hidden": false
    },
    "execution": {
     "iopub.status.busy": "2023-06-12T16:51:41.239041Z",
     "iopub.execute_input": "2023-06-12T16:51:41.239492Z",
     "iopub.status.idle": "2023-06-12T16:51:41.249020Z",
     "shell.execute_reply.started": "2023-06-12T16:51:41.239460Z",
     "shell.execute_reply": "2023-06-12T16:51:41.248181Z"
    },
    "trusted": true,
    "ExecuteTime": {
     "end_time": "2023-06-21T18:54:01.596822400Z",
     "start_time": "2023-06-21T18:54:01.542665300Z"
    }
   },
   "execution_count": 89,
   "outputs": []
  },
  {
   "cell_type": "code",
   "source": [
    "from sklearn.linear_model import LinearRegression\n",
    "\n",
    "\n",
    "def train_model_lreg(train, y):\n",
    "    temp_train = train.copy()\n",
    "\n",
    "    x_tr, x_v, y_tr, y_v = train_test_split(temp_train, y, train_size=split_size, random_state=42, shuffle=False)\n",
    "\n",
    "    model = LinearRegression()\n",
    "    trained_model = model.fit(x_tr, y_tr)\n",
    "\n",
    "    return trained_model, x_v, y_v"
   ],
   "metadata": {
    "collapsed": false,
    "jupyter": {
     "outputs_hidden": false
    },
    "execution": {
     "iopub.status.busy": "2023-06-12T17:05:39.603207Z",
     "iopub.execute_input": "2023-06-12T17:05:39.603568Z",
     "iopub.status.idle": "2023-06-12T17:05:39.612075Z",
     "shell.execute_reply.started": "2023-06-12T17:05:39.603537Z",
     "shell.execute_reply": "2023-06-12T17:05:39.610929Z"
    },
    "trusted": true,
    "ExecuteTime": {
     "end_time": "2023-06-21T18:54:01.598822100Z",
     "start_time": "2023-06-21T18:54:01.559187500Z"
    }
   },
   "execution_count": 90,
   "outputs": []
  },
  {
   "cell_type": "code",
   "execution_count": 91,
   "outputs": [],
   "source": [
    "from sklearn.linear_model import ElasticNet\n",
    "\n",
    "\n",
    "def train_model_elas(train, y):\n",
    "    temp_train = train.copy()\n",
    "\n",
    "    x_tr, x_v, y_tr, y_v = train_test_split(temp_train, y, train_size=split_size, random_state=42, shuffle=False)\n",
    "\n",
    "    model = ElasticNet()\n",
    "    trained_model = model.fit(x_tr, y_tr)\n",
    "\n",
    "    return trained_model, x_v, y_v, None"
   ],
   "metadata": {
    "collapsed": false,
    "ExecuteTime": {
     "end_time": "2023-06-21T18:54:01.598822100Z",
     "start_time": "2023-06-21T18:54:01.574185100Z"
    }
   }
  },
  {
   "cell_type": "code",
   "execution_count": null,
   "outputs": [],
   "source": [
    "from sklearn.ensemble import RandomForestRegressor\n",
    "\n",
    "\n",
    "def train_model_rf(train, y):\n",
    "    temp_train = train.copy()\n",
    "\n",
    "    x_tr, x_v, y_tr, y_v = train_test_split(temp_train, y, train_size=split_size, random_state=42, shuffle=False)\n",
    "\n",
    "    model = RandomForestRegressor(n_estimators=50)  # very slow\n",
    "    trained_model = model.fit(x_tr, y_tr)\n",
    "\n",
    "    return trained_model, x_v, y_v, None"
   ],
   "metadata": {
    "collapsed": false
   }
  },
  {
   "cell_type": "code",
   "source": [
    "split_size = 0.8\n",
    "drop_cols = ['id', 'date', 'sales']\n",
    "print(\"Starting training phase\")"
   ],
   "metadata": {
    "execution": {
     "iopub.status.busy": "2023-06-12T16:51:41.286418Z",
     "iopub.execute_input": "2023-06-12T16:51:41.286977Z",
     "iopub.status.idle": "2023-06-12T16:51:41.295578Z",
     "shell.execute_reply.started": "2023-06-12T16:51:41.286947Z",
     "shell.execute_reply": "2023-06-12T16:51:41.294478Z"
    },
    "trusted": true,
    "ExecuteTime": {
     "end_time": "2023-06-21T18:54:01.614466500Z",
     "start_time": "2023-06-21T18:54:01.587634Z"
    }
   },
   "execution_count": 92,
   "outputs": [
    {
     "name": "stdout",
     "output_type": "stream",
     "text": [
      "Starting training phase\n"
     ]
    }
   ]
  },
  {
   "cell_type": "code",
   "source": [
    "def show_metrics(actual, predictions, mdict):\n",
    "    mae = mean_absolute_error(actual, predictions)\n",
    "    mse = mean_squared_error(actual, predictions, squared=True)\n",
    "    rmsle = mean_squared_log_error(actual, predictions)\n",
    "    r2 = r2_score(actual, predictions)\n",
    "\n",
    "    print(\"\\nRegression metrics\")\n",
    "    print('MAE: {:.2f}'.format(mae))\n",
    "    print('MSE: {:.2f}'.format(mse))\n",
    "    print('RMSLE: {:.2f}'.format(rmsle))\n",
    "    print('R2: {:.2f}'.format(r2))\n",
    "\n",
    "    if mdict is not None:\n",
    "        mdict[\"mae\"].append(mae)\n",
    "        mdict[\"mse\"].append(mse)\n",
    "        mdict[\"rmsle\"].append(rmsle)\n",
    "        mdict[\"r2\"].append(r2)"
   ],
   "metadata": {
    "collapsed": false,
    "jupyter": {
     "outputs_hidden": false
    },
    "execution": {
     "iopub.status.busy": "2023-06-12T16:51:41.297437Z",
     "iopub.execute_input": "2023-06-12T16:51:41.297799Z",
     "iopub.status.idle": "2023-06-12T16:51:41.305551Z",
     "shell.execute_reply.started": "2023-06-12T16:51:41.297723Z",
     "shell.execute_reply": "2023-06-12T16:51:41.304555Z"
    },
    "trusted": true,
    "ExecuteTime": {
     "end_time": "2023-06-21T18:54:01.618013Z",
     "start_time": "2023-06-21T18:54:01.604957700Z"
    }
   },
   "execution_count": 93,
   "outputs": []
  },
  {
   "cell_type": "code",
   "execution_count": 94,
   "outputs": [],
   "source": [
    "%matplotlib inline\n",
    "\n",
    "def plot_predictions(nb_samples, actual, predictions):\n",
    "    sp_list = list(range(0, nb_samples))\n",
    "\n",
    "    plt.figure(figsize=FIGSIZE)\n",
    "    plt.subplot(1, 2, 1)\n",
    "    plt.plot(sp_list, actual, label='Expected', alpha=0.5)\n",
    "    plt.plot(sp_list, predictions, label='Predicted', alpha=0.5)\n",
    "    plt.legend(loc=\"upper right\")\n",
    "    plt.title('Expected & Predicted')\n",
    "    plt.xlabel('Samples')\n",
    "    plt.ylabel('Sales')\n",
    "\n",
    "    plt.subplot(1, 2, 2)\n",
    "    plt.plot(sp_list, abs(actual - predictions))\n",
    "    plt.title('Difference (actual - preds)')\n",
    "    plt.xlabel('Samples')\n",
    "    plt.ylabel('Difference')\n",
    "\n",
    "    plt.show()"
   ],
   "metadata": {
    "collapsed": false,
    "ExecuteTime": {
     "end_time": "2023-06-21T18:54:01.659583700Z",
     "start_time": "2023-06-21T18:54:01.616984200Z"
    }
   }
  },
  {
   "cell_type": "code",
   "execution_count": 95,
   "outputs": [],
   "source": [
    "def evalmodel(md, x_v, y_v):\n",
    "    print(f\"\\nEvaluating model\")\n",
    "    y_pred = md.predict(x_v)\n",
    "    y_pred[y_pred < 0] = 0\n",
    "\n",
    "    show_metrics(y_v, y_pred, None)\n",
    "\n",
    "    plot_predictions(len(x_v), y_v, y_pred)\n",
    "    plt.show()"
   ],
   "metadata": {
    "collapsed": false,
    "ExecuteTime": {
     "end_time": "2023-06-21T18:54:01.659583700Z",
     "start_time": "2023-06-21T18:54:01.633678400Z"
    }
   }
  },
  {
   "cell_type": "code",
   "execution_count": 97,
   "outputs": [],
   "source": [
    "y_train = train_df['sales']\n",
    "x_train = train_df.drop(drop_cols, axis=1)"
   ],
   "metadata": {
    "collapsed": false,
    "ExecuteTime": {
     "end_time": "2023-06-21T18:54:02.675346600Z",
     "start_time": "2023-06-21T18:54:01.665989200Z"
    }
   }
  },
  {
   "cell_type": "code",
   "execution_count": 98,
   "outputs": [
    {
     "name": "stdout",
     "output_type": "stream",
     "text": [
      "[0]\tvalidation_0-rmse:1064.67984\n",
      "[1]\tvalidation_0-rmse:806.95903\n",
      "[2]\tvalidation_0-rmse:628.66338\n",
      "[3]\tvalidation_0-rmse:511.47326\n",
      "[4]\tvalidation_0-rmse:438.73098\n",
      "[5]\tvalidation_0-rmse:395.47394\n",
      "[6]\tvalidation_0-rmse:367.98809\n",
      "[7]\tvalidation_0-rmse:349.22127\n",
      "[8]\tvalidation_0-rmse:337.15696\n",
      "[9]\tvalidation_0-rmse:327.90870\n",
      "[10]\tvalidation_0-rmse:320.61838\n",
      "[11]\tvalidation_0-rmse:317.78213\n",
      "[12]\tvalidation_0-rmse:314.21127\n",
      "[13]\tvalidation_0-rmse:312.62439\n",
      "[14]\tvalidation_0-rmse:310.71523\n",
      "[15]\tvalidation_0-rmse:309.78453\n",
      "[16]\tvalidation_0-rmse:307.53142\n",
      "[17]\tvalidation_0-rmse:305.77818\n",
      "[18]\tvalidation_0-rmse:304.85764\n",
      "[19]\tvalidation_0-rmse:303.92504\n",
      "[20]\tvalidation_0-rmse:305.87128\n",
      "[21]\tvalidation_0-rmse:303.88594\n",
      "[22]\tvalidation_0-rmse:302.33044\n",
      "[23]\tvalidation_0-rmse:302.35606\n",
      "[24]\tvalidation_0-rmse:302.75095\n",
      "[25]\tvalidation_0-rmse:302.68152\n",
      "[26]\tvalidation_0-rmse:301.45243\n",
      "[27]\tvalidation_0-rmse:302.19695\n",
      "[28]\tvalidation_0-rmse:301.13228\n",
      "[29]\tvalidation_0-rmse:300.71110\n",
      "[30]\tvalidation_0-rmse:299.64895\n",
      "[31]\tvalidation_0-rmse:299.39205\n",
      "[32]\tvalidation_0-rmse:298.86561\n",
      "[33]\tvalidation_0-rmse:298.73320\n",
      "[34]\tvalidation_0-rmse:298.51341\n",
      "[35]\tvalidation_0-rmse:298.00886\n",
      "[36]\tvalidation_0-rmse:297.44425\n",
      "[37]\tvalidation_0-rmse:297.43828\n",
      "[38]\tvalidation_0-rmse:297.20916\n",
      "[39]\tvalidation_0-rmse:297.18728\n",
      "[40]\tvalidation_0-rmse:298.30835\n",
      "[41]\tvalidation_0-rmse:298.08006\n",
      "[42]\tvalidation_0-rmse:297.67048\n",
      "[43]\tvalidation_0-rmse:297.49330\n",
      "[44]\tvalidation_0-rmse:297.16887\n",
      "[45]\tvalidation_0-rmse:296.65038\n",
      "[46]\tvalidation_0-rmse:296.56167\n",
      "[47]\tvalidation_0-rmse:296.27123\n",
      "[48]\tvalidation_0-rmse:296.49507\n",
      "[49]\tvalidation_0-rmse:296.19403\n",
      "[50]\tvalidation_0-rmse:296.14749\n",
      "[51]\tvalidation_0-rmse:295.96773\n",
      "[52]\tvalidation_0-rmse:295.50110\n",
      "[53]\tvalidation_0-rmse:295.57533\n",
      "[54]\tvalidation_0-rmse:295.14834\n",
      "[55]\tvalidation_0-rmse:294.80828\n",
      "[56]\tvalidation_0-rmse:295.27825\n",
      "[57]\tvalidation_0-rmse:294.36901\n",
      "[58]\tvalidation_0-rmse:294.42943\n",
      "[59]\tvalidation_0-rmse:294.73539\n",
      "[60]\tvalidation_0-rmse:294.86774\n",
      "[61]\tvalidation_0-rmse:294.46263\n",
      "[62]\tvalidation_0-rmse:294.34948\n",
      "[63]\tvalidation_0-rmse:294.32303\n",
      "[64]\tvalidation_0-rmse:293.91643\n",
      "[65]\tvalidation_0-rmse:293.94743\n",
      "[66]\tvalidation_0-rmse:293.79026\n",
      "[67]\tvalidation_0-rmse:293.81975\n",
      "[68]\tvalidation_0-rmse:293.72272\n",
      "[69]\tvalidation_0-rmse:293.50315\n",
      "[70]\tvalidation_0-rmse:293.51122\n",
      "[71]\tvalidation_0-rmse:293.38019\n",
      "[72]\tvalidation_0-rmse:293.38331\n",
      "[73]\tvalidation_0-rmse:292.88101\n",
      "[74]\tvalidation_0-rmse:292.61676\n",
      "[75]\tvalidation_0-rmse:292.55120\n",
      "[76]\tvalidation_0-rmse:292.68592\n",
      "[77]\tvalidation_0-rmse:292.50631\n",
      "[78]\tvalidation_0-rmse:292.52666\n",
      "[79]\tvalidation_0-rmse:292.29930\n",
      "[80]\tvalidation_0-rmse:292.83317\n",
      "[81]\tvalidation_0-rmse:292.79464\n",
      "[82]\tvalidation_0-rmse:292.86279\n",
      "[83]\tvalidation_0-rmse:292.89677\n",
      "[84]\tvalidation_0-rmse:292.65174\n",
      "[85]\tvalidation_0-rmse:292.66427\n",
      "[86]\tvalidation_0-rmse:292.42048\n",
      "[87]\tvalidation_0-rmse:292.17778\n",
      "[88]\tvalidation_0-rmse:292.70345\n",
      "[89]\tvalidation_0-rmse:293.00397\n",
      "[90]\tvalidation_0-rmse:296.66687\n",
      "[91]\tvalidation_0-rmse:296.55576\n",
      "[92]\tvalidation_0-rmse:296.39988\n",
      "[93]\tvalidation_0-rmse:296.38872\n",
      "[94]\tvalidation_0-rmse:296.31350\n",
      "[95]\tvalidation_0-rmse:296.21624\n",
      "[96]\tvalidation_0-rmse:296.25338\n",
      "[97]\tvalidation_0-rmse:295.89868\n",
      "[98]\tvalidation_0-rmse:295.77856\n",
      "[99]\tvalidation_0-rmse:295.67053\n",
      "[100]\tvalidation_0-rmse:295.64216\n",
      "[101]\tvalidation_0-rmse:295.58715\n",
      "[102]\tvalidation_0-rmse:295.22617\n",
      "[103]\tvalidation_0-rmse:295.21095\n",
      "[104]\tvalidation_0-rmse:295.11520\n",
      "[105]\tvalidation_0-rmse:295.05673\n",
      "[106]\tvalidation_0-rmse:295.02854\n",
      "[107]\tvalidation_0-rmse:294.99680\n",
      "[108]\tvalidation_0-rmse:294.78005\n",
      "[109]\tvalidation_0-rmse:294.90449\n",
      "[110]\tvalidation_0-rmse:294.80721\n",
      "[111]\tvalidation_0-rmse:294.89820\n",
      "[112]\tvalidation_0-rmse:294.89041\n"
     ]
    }
   ],
   "source": [
    "test_model, x_val, y_val = train_model_xgb(x_train, y_train)"
   ],
   "metadata": {
    "collapsed": false,
    "ExecuteTime": {
     "end_time": "2023-06-21T18:58:36.629938700Z",
     "start_time": "2023-06-21T18:54:02.671111400Z"
    }
   }
  },
  {
   "cell_type": "code",
   "execution_count": 99,
   "outputs": [
    {
     "name": "stdout",
     "output_type": "stream",
     "text": [
      "\n",
      "Evaluating model\n",
      "\n",
      "Regression metrics\n",
      "MAE: 69.04\n",
      "MSE: 85264.08\n",
      "RMSLE: 0.60\n",
      "R2: 0.95\n"
     ]
    },
    {
     "data": {
      "text/plain": "<Figure size 1400x400 with 2 Axes>",
      "image/png": "[encoded data removed]"
     },
     "metadata": {},
     "output_type": "display_data"
    }
   ],
   "source": [
    "evalmodel(test_model, x_val, y_val)"
   ],
   "metadata": {
    "collapsed": false,
    "ExecuteTime": {
     "end_time": "2023-06-21T18:58:37.784532900Z",
     "start_time": "2023-06-21T18:58:36.647378600Z"
    }
   }
  },
  {
   "cell_type": "code",
   "execution_count": 101,
   "outputs": [],
   "source": [
    "test_model, x_val, y_val = train_model_lreg(x_train, y_train)"
   ],
   "metadata": {
    "collapsed": false,
    "ExecuteTime": {
     "end_time": "2023-06-21T18:59:04.185412400Z",
     "start_time": "2023-06-21T18:58:37.799833300Z"
    }
   }
  },
  {
   "cell_type": "code",
   "execution_count": 102,
   "outputs": [
    {
     "name": "stdout",
     "output_type": "stream",
     "text": [
      "\n",
      "Evaluating model\n",
      "\n",
      "Regression metrics\n",
      "MAE: 131.24\n",
      "MSE: 201141.43\n",
      "RMSLE: 3.01\n",
      "R2: 0.89\n"
     ]
    },
    {
     "data": {
      "text/plain": "<Figure size 1400x400 with 2 Axes>",
      "image/png": "[encoded data removed]"
     },
     "metadata": {},
     "output_type": "display_data"
    }
   ],
   "source": [
    "evalmodel(test_model, x_val, y_val)"
   ],
   "metadata": {
    "collapsed": false,
    "ExecuteTime": {
     "end_time": "2023-06-21T18:59:05.199474900Z",
     "start_time": "2023-06-21T18:59:04.192447300Z"
    }
   }
  },
  {
   "cell_type": "code",
   "execution_count": 103,
   "outputs": [
    {
     "name": "stderr",
     "output_type": "stream",
     "text": [
      "C:\\Dev\\Anaconda\\envs\\timeseries\\lib\\site-packages\\sklearn\\linear_model\\_coordinate_descent.py:631: ConvergenceWarning: Objective did not converge. You might want to increase the number of iterations, check the scale of the features or consider increasing regularisation. Duality gap: 9.444e+10, tolerance: 2.521e+08\n",
      "  model = cd_fast.enet_coordinate_descent(\n"
     ]
    }
   ],
   "source": [
    "test_model, x_val, y_val = train_model_elas(x_train, y_train)"
   ],
   "metadata": {
    "collapsed": false,
    "ExecuteTime": {
     "end_time": "2023-06-21T19:09:03.275578200Z",
     "start_time": "2023-06-21T18:59:05.202987600Z"
    }
   }
  },
  {
   "cell_type": "code",
   "execution_count": 104,
   "outputs": [
    {
     "name": "stdout",
     "output_type": "stream",
     "text": [
      "\n",
      "Evaluating model\n",
      "\n",
      "Regression metrics\n",
      "MAE: 132.21\n",
      "MSE: 201905.94\n",
      "RMSLE: 2.90\n",
      "R2: 0.89\n"
     ]
    },
    {
     "data": {
      "text/plain": "<Figure size 1400x400 with 2 Axes>",
      "image/png": "[encoded data removed]"
     },
     "metadata": {},
     "output_type": "display_data"
    }
   ],
   "source": [
    "evalmodel(test_model, x_val, y_val)"
   ],
   "metadata": {
    "collapsed": false,
    "ExecuteTime": {
     "end_time": "2023-06-21T19:09:04.163696600Z",
     "start_time": "2023-06-21T19:09:03.290317400Z"
    }
   }
  },
  {
   "cell_type": "code",
   "execution_count": null,
   "outputs": [],
   "source": [
    "test_model, x_val, y_val = train_model_rf(x_train, y_train)"
   ],
   "metadata": {
    "collapsed": false
   }
  },
  {
   "cell_type": "code",
   "execution_count": null,
   "outputs": [],
   "source": [
    "evalmodel(test_model, x_val, y_val)"
   ],
   "metadata": {
    "collapsed": false
   }
  },
  {
   "cell_type": "code",
   "source": [
    "print('Notebook done')\n"
   ],
   "metadata": {
    "collapsed": false,
    "jupyter": {
     "outputs_hidden": false
    },
    "execution": {
     "iopub.status.busy": "2023-06-12T16:51:42.206393Z",
     "iopub.status.idle": "2023-06-12T16:51:42.206853Z",
     "shell.execute_reply.started": "2023-06-12T16:51:42.206622Z",
     "shell.execute_reply": "2023-06-12T16:51:42.206645Z"
    },
    "trusted": true,
    "ExecuteTime": {
     "end_time": "2023-06-21T19:09:04.284560500Z",
     "start_time": "2023-06-21T19:09:04.167832500Z"
    }
   },
   "execution_count": 105,
   "outputs": [
    {
     "name": "stdout",
     "output_type": "stream",
     "text": [
      "Notebook done\n"
     ]
    }
   ]
  }
 ]
}
